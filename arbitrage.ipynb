{
 "cells": [
  {
   "cell_type": "code",
   "execution_count": 1,
   "metadata": {
    "scrolled": false
   },
   "outputs": [
    {
     "name": "stdout",
     "output_type": "stream",
     "text": [
      "{'ticker': {'base': 'BTC', 'target': 'USD', 'price': '8714.06970878', 'volume': '46593.46171273', 'change': '-18.58845914', 'markets': [{'market': 'Binance', 'price': '8707.57000000', 'volume': 26245.514329}, {'market': 'BitFinex', 'price': '8731.60000000', 'volume': 5444.12700911}, {'market': 'Bitstamp', 'price': '8725.55000000', 'volume': 4289.44599606}, {'market': 'Bittrex', 'price': '8729.99000000', 'volume': 275.81664843}, {'market': 'Bleutrade', 'price': '8424.25040959', 'volume': 0.00929803}, {'market': 'C-Cex', 'price': '9500.00000000', 'volume': 0.06464312}, {'market': 'Cex.io', 'price': '8762.30000000', 'volume': 118.87970347}, {'market': 'Coinbase Pro', 'price': '8721.59000000', 'volume': 6241.22491683}, {'market': 'Exmo', 'price': '8643.99999993', 'volume': 828.69938282}, {'market': 'Hitbtc', 'price': '8756.18258000', 'volume': 9.38773}, {'market': 'IncoreX', 'price': '8559.61000000', 'volume': 26.46272342}, {'market': 'Kraken', 'price': '8725.40000000', 'volume': 2761.11632354}, {'market': 'Livecoin', 'price': '9797.00000000', 'volume': 0.00218434}, {'market': 'Poloniex', 'price': '8709.71215066', 'volume': 336.65325601}, {'market': 'YoBit', 'price': '8760.00000000', 'volume': 16.05756855}]}, 'timestamp': 1559469423, 'success': True, 'error': ''}\n"
     ]
    },
    {
     "data": {
      "text/html": [
       "<div>\n",
       "<style scoped>\n",
       "    .dataframe tbody tr th:only-of-type {\n",
       "        vertical-align: middle;\n",
       "    }\n",
       "\n",
       "    .dataframe tbody tr th {\n",
       "        vertical-align: top;\n",
       "    }\n",
       "\n",
       "    .dataframe thead th {\n",
       "        text-align: right;\n",
       "    }\n",
       "</style>\n",
       "<table border=\"1\" class=\"dataframe\">\n",
       "  <thead>\n",
       "    <tr style=\"text-align: right;\">\n",
       "      <th></th>\n",
       "      <th>ticker</th>\n",
       "      <th>timestamp</th>\n",
       "      <th>success</th>\n",
       "      <th>error</th>\n",
       "    </tr>\n",
       "  </thead>\n",
       "  <tbody>\n",
       "    <tr>\n",
       "      <th>base</th>\n",
       "      <td>BTC</td>\n",
       "      <td>1559469423</td>\n",
       "      <td>True</td>\n",
       "      <td></td>\n",
       "    </tr>\n",
       "    <tr>\n",
       "      <th>change</th>\n",
       "      <td>-18.58845914</td>\n",
       "      <td>1559469423</td>\n",
       "      <td>True</td>\n",
       "      <td></td>\n",
       "    </tr>\n",
       "    <tr>\n",
       "      <th>markets</th>\n",
       "      <td>[{'market': 'Binance', 'price': '8707.57000000...</td>\n",
       "      <td>1559469423</td>\n",
       "      <td>True</td>\n",
       "      <td></td>\n",
       "    </tr>\n",
       "    <tr>\n",
       "      <th>price</th>\n",
       "      <td>8714.06970878</td>\n",
       "      <td>1559469423</td>\n",
       "      <td>True</td>\n",
       "      <td></td>\n",
       "    </tr>\n",
       "    <tr>\n",
       "      <th>target</th>\n",
       "      <td>USD</td>\n",
       "      <td>1559469423</td>\n",
       "      <td>True</td>\n",
       "      <td></td>\n",
       "    </tr>\n",
       "    <tr>\n",
       "      <th>volume</th>\n",
       "      <td>46593.46171273</td>\n",
       "      <td>1559469423</td>\n",
       "      <td>True</td>\n",
       "      <td></td>\n",
       "    </tr>\n",
       "  </tbody>\n",
       "</table>\n",
       "</div>"
      ],
      "text/plain": [
       "                                                    ticker   timestamp  \\\n",
       "base                                                   BTC  1559469423   \n",
       "change                                        -18.58845914  1559469423   \n",
       "markets  [{'market': 'Binance', 'price': '8707.57000000...  1559469423   \n",
       "price                                        8714.06970878  1559469423   \n",
       "target                                                 USD  1559469423   \n",
       "volume                                      46593.46171273  1559469423   \n",
       "\n",
       "         success error  \n",
       "base        True        \n",
       "change      True        \n",
       "markets     True        \n",
       "price       True        \n",
       "target      True        \n",
       "volume      True        "
      ]
     },
     "execution_count": 1,
     "metadata": {},
     "output_type": "execute_result"
    }
   ],
   "source": [
    "import numpy as np\n",
    "import pandas as pd\n",
    "import requests\n",
    "import matplotlib.pyplot as plt\n",
    "getURL = requests.get('https://api.cryptonator.com/api/full/btc-usd').json()\n",
    "print(getURL)\n",
    "df1  = pd.DataFrame(getURL)\n",
    "df1"
   ]
  },
  {
   "cell_type": "code",
   "execution_count": 3,
   "metadata": {},
   "outputs": [
    {
     "name": "stdout",
     "output_type": "stream",
     "text": [
      "          market          price        volume\n",
      "0        Binance  8707.57000000  26245.514329\n",
      "1       BitFinex  8731.60000000   5444.127009\n",
      "2       Bitstamp  8725.55000000   4289.445996\n",
      "3        Bittrex  8729.99000000    275.816648\n",
      "4      Bleutrade  8424.25040959      0.009298\n",
      "5          C-Cex  9500.00000000      0.064643\n",
      "6         Cex.io  8762.30000000    118.879703\n",
      "7   Coinbase Pro  8721.59000000   6241.224917\n",
      "8           Exmo  8643.99999993    828.699383\n",
      "9         Hitbtc  8756.18258000      9.387730\n",
      "10       IncoreX  8559.61000000     26.462723\n",
      "11        Kraken  8725.40000000   2761.116324\n",
      "12      Livecoin  9797.00000000      0.002184\n",
      "13      Poloniex  8709.71215066    336.653256\n",
      "14         YoBit  8760.00000000     16.057569\n",
      "<class 'pandas.core.frame.DataFrame'>\n"
     ]
    }
   ],
   "source": [
    "df_ticker = pd.DataFrame(df1['ticker']['markets'])\n",
    "print(df_ticker)\n",
    "print(type(df_ticker))\n"
   ]
  },
  {
   "cell_type": "code",
   "execution_count": 4,
   "metadata": {},
   "outputs": [],
   "source": [
    "price = df_ticker['price'].astype('float')\n",
    "mar = list(df_ticker['market'])\n",
    "price = list(price)\n",
    "vol = list(df_ticker['volume'])\n",
    "def plot_txt(text , x_val , y_val):\n",
    "    for t , x , y in zip(text[:] , x_val[:] , y_val[:]):\n",
    "        plt.annotate(t , xy = (x , y))\n",
    "    plt.grid(True)\n",
    "    plt.scatter(x_val , y_val)\n",
    "    plt.title('Arbitrage Finder')\n",
    "    plt.show()"
   ]
  },
  {
   "cell_type": "code",
   "execution_count": 5,
   "metadata": {},
   "outputs": [
    {
     "data": {
      "image/png": "[encoded data removed]",
      "text/plain": [
       "<Figure size 432x288 with 1 Axes>"
      ]
     },
     "metadata": {
      "needs_background": "light"
     },
     "output_type": "display_data"
    }
   ],
   "source": [
    "plot_txt(mar , price , vol)"
   ]
  },
  {
   "cell_type": "code",
   "execution_count": null,
   "metadata": {},
   "outputs": [],
   "source": []
  }
 ],
 "metadata": {
  "kernelspec": {
   "display_name": "Python 3",
   "language": "python",
   "name": "python3"
  },
  "language_info": {
   "codemirror_mode": {
    "name": "ipython",
    "version": 3
   },
   "file_extension": ".py",
   "mimetype": "text/x-python",
   "name": "python",
   "nbconvert_exporter": "python",
   "pygments_lexer": "ipython3",
   "version": "3.7.3"
  }
 },
 "nbformat": 4,
 "nbformat_minor": 2
}
